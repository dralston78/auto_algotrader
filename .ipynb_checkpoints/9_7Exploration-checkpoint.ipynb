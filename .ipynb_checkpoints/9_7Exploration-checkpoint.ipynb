{
 "cells": [
  {
   "cell_type": "code",
   "execution_count": 2,
   "id": "bf736b14",
   "metadata": {},
   "outputs": [],
   "source": [
    "# import alpaca_trade_api as tradeapi"
   ]
  },
  {
   "cell_type": "code",
   "execution_count": 5,
   "id": "f907b901",
   "metadata": {},
   "outputs": [
    {
     "ename": "ValueError",
     "evalue": "('Key ID must be given to access Alpaca trade API', ' (env: APCA_API_KEY_ID)')",
     "output_type": "error",
     "traceback": [
      "\u001b[0;31m---------------------------------------------------------------------------\u001b[0m",
      "\u001b[0;31mValueError\u001b[0m                                Traceback (most recent call last)",
      "\u001b[0;32m<ipython-input-5-967f95eb9570>\u001b[0m in \u001b[0;36m<module>\u001b[0;34m\u001b[0m\n\u001b[0;32m----> 1\u001b[0;31m \u001b[0malpaca_trade_api\u001b[0m\u001b[0;34m.\u001b[0m\u001b[0mREST\u001b[0m\u001b[0;34m(\u001b[0m\u001b[0;34m)\u001b[0m\u001b[0;34m.\u001b[0m\u001b[0msubmit_order\u001b[0m\u001b[0;34m(\u001b[0m\u001b[0;34m)\u001b[0m\u001b[0;34m\u001b[0m\u001b[0;34m\u001b[0m\u001b[0m\n\u001b[0m",
      "\u001b[0;32m~/miniconda3/lib/python3.9/site-packages/alpaca_trade_api/rest.py\u001b[0m in \u001b[0;36m__init__\u001b[0;34m(self, key_id, secret_key, base_url, api_version, oauth, raw_data)\u001b[0m\n\u001b[1;32m     91\u001b[0m                          \u001b[0mEntity\u001b[0m \u001b[0mobjects\u001b[0m\u001b[0;34m.\u001b[0m\u001b[0;34m\u001b[0m\u001b[0;34m\u001b[0m\u001b[0m\n\u001b[1;32m     92\u001b[0m         \"\"\"\n\u001b[0;32m---> 93\u001b[0;31m         self._key_id, self._secret_key, self._oauth = get_credentials(\n\u001b[0m\u001b[1;32m     94\u001b[0m             key_id, secret_key, oauth)\n\u001b[1;32m     95\u001b[0m         \u001b[0mself\u001b[0m\u001b[0;34m.\u001b[0m\u001b[0m_base_url\u001b[0m\u001b[0;34m:\u001b[0m \u001b[0mURL\u001b[0m \u001b[0;34m=\u001b[0m \u001b[0mURL\u001b[0m\u001b[0;34m(\u001b[0m\u001b[0mbase_url\u001b[0m \u001b[0;32mor\u001b[0m \u001b[0mget_base_url\u001b[0m\u001b[0;34m(\u001b[0m\u001b[0;34m)\u001b[0m\u001b[0;34m)\u001b[0m\u001b[0;34m\u001b[0m\u001b[0;34m\u001b[0m\u001b[0m\n",
      "\u001b[0;32m~/miniconda3/lib/python3.9/site-packages/alpaca_trade_api/common.py\u001b[0m in \u001b[0;36mget_credentials\u001b[0;34m(key_id, secret_key, oauth)\u001b[0m\n\u001b[1;32m     80\u001b[0m     \u001b[0mkey_id\u001b[0m \u001b[0;34m=\u001b[0m \u001b[0mkey_id\u001b[0m \u001b[0;32mor\u001b[0m \u001b[0mos\u001b[0m\u001b[0;34m.\u001b[0m\u001b[0menviron\u001b[0m\u001b[0;34m.\u001b[0m\u001b[0mget\u001b[0m\u001b[0;34m(\u001b[0m\u001b[0;34m'APCA_API_KEY_ID'\u001b[0m\u001b[0;34m)\u001b[0m\u001b[0;34m\u001b[0m\u001b[0;34m\u001b[0m\u001b[0m\n\u001b[1;32m     81\u001b[0m     \u001b[0;32mif\u001b[0m \u001b[0mkey_id\u001b[0m \u001b[0;32mis\u001b[0m \u001b[0;32mNone\u001b[0m \u001b[0;32mand\u001b[0m \u001b[0moauth\u001b[0m \u001b[0;32mis\u001b[0m \u001b[0;32mNone\u001b[0m\u001b[0;34m:\u001b[0m\u001b[0;34m\u001b[0m\u001b[0;34m\u001b[0m\u001b[0m\n\u001b[0;32m---> 82\u001b[0;31m         raise ValueError('Key ID must be given to access Alpaca trade API',\n\u001b[0m\u001b[1;32m     83\u001b[0m                          ' (env: APCA_API_KEY_ID)')\n\u001b[1;32m     84\u001b[0m \u001b[0;34m\u001b[0m\u001b[0m\n",
      "\u001b[0;31mValueError\u001b[0m: ('Key ID must be given to access Alpaca trade API', ' (env: APCA_API_KEY_ID)')"
     ]
    }
   ],
   "source": [
    "# public_key = \n",
    "# secret_key = \n",
    "# base_url = \n",
    "\n",
    "# api = tradeapi()\n",
    "\n",
    "# symb = \"AAPL\"\n",
    "# pos_held = False\n",
    "\n",
    "# while True:\n",
    "#     print(\"\")\n",
    "#     print(\"Checking Price\")\n",
    "    \n",
    "#     market_data = api.get_barset(symb, 'minute', limit=5) # Get one bar object for each of the past 5 minutes\n",
    "\n",
    "#     close_list = [] # This array will store all the closing prices from the last 5 minutes\n",
    "#     for bar in market_data[symb]:\n",
    "#         close_list.append(bar.c) # bar.c is the closing price of that bar's time interval\n",
    "\n",
    "#     close_list = np.array(close_list, dtype=np.float64) # Convert to numpy array\n",
    "#     ma = np.mean(close_list)\n",
    "#     last_price = close_list[4] # Most recent closing price\n",
    "\n",
    "#     print(\"Moving Average: \" + str(ma))\n",
    "#     print(\"Last Price: \" + str(last_price))\n",
    "\n",
    "    \n",
    "#     if ma + 0.1 < last_price and not pos_held: # If MA is more than 10cents under price, and we haven't already bought\n",
    "#         print(\"Buy\")\n",
    "#         api.submit_order(\n",
    "#             symbol=symb,\n",
    "#             qty=1,\n",
    "#             side='buy',\n",
    "#             type='market',\n",
    "#             time_in_force='gtc'\n",
    "#         )\n",
    "#         pos_held = True\n",
    "#     elif ma - 0.1 > last_price and pos_held: # If MA is more than 10cents above price, and we already bought\n",
    "#         print(\"Sell\")\n",
    "#         api.submit_order(\n",
    "#             symbol=symb,\n",
    "#             qty=1,\n",
    "#             side='sell',\n",
    "#             type='market',\n",
    "#             time_in_force='gtc'\n",
    "#         )\n",
    "#         pos_held = False\n",
    "     \n",
    "#     time.sleep(60)"
   ]
  },
  {
   "cell_type": "code",
   "execution_count": null,
   "id": "1eb0b2b8",
   "metadata": {},
   "outputs": [],
   "source": []
  }
 ],
 "metadata": {
  "kernelspec": {
   "display_name": "Python 3",
   "language": "python",
   "name": "python3"
  },
  "language_info": {
   "codemirror_mode": {
    "name": "ipython",
    "version": 3
   },
   "file_extension": ".py",
   "mimetype": "text/x-python",
   "name": "python",
   "nbconvert_exporter": "python",
   "pygments_lexer": "ipython3",
   "version": "3.9.1"
  }
 },
 "nbformat": 4,
 "nbformat_minor": 5
}
