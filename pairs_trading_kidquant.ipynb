{
 "cells": [
  {
   "cell_type": "code",
   "execution_count": 2,
   "id": "41e2a41b",
   "metadata": {},
   "outputs": [],
   "source": [
    "import numpy as np\n",
    "import pandas as pd\n",
    "import statsmodels\n",
    "import statsmodels.api as sm\n",
    "from statsmodels.tsa.stattools import coint, adfuller\n",
    "\n",
    "import matplotlib.pyplot as plt\n",
    "import seaborn as sns\n",
    "\n",
    "from pandas_datareader import data as pdr\n",
    "import datetime\n",
    "import yfinance as yf\n",
    "yf.pdr_override()"
   ]
  },
  {
   "cell_type": "code",
   "execution_count": 5,
   "id": "fe6b0579",
   "metadata": {},
   "outputs": [
    {
     "name": "stdout",
     "output_type": "stream",
     "text": [
      "[*********************100%***********************]  1 of 1 completed\n",
      "Date\n",
      "2013-01-02    19.608213\n",
      "2013-01-03    19.360714\n",
      "2013-01-04    18.821428\n",
      "2013-01-07    18.710714\n",
      "2013-01-08    18.761070\n",
      "                ...    \n",
      "2013-12-24    20.273930\n",
      "2013-12-26    20.139286\n",
      "2013-12-27    20.003214\n",
      "2013-12-30    19.804285\n",
      "2013-12-31    20.036428\n",
      "Name: Close, Length: 252, dtype: float64\n"
     ]
    }
   ],
   "source": [
    "print(pdr.get_data_yahoo(\"AAPL\", datetime.datetime(2013,1,1), datetime.datetime(2014,1,1))['Close'])"
   ]
  },
  {
   "cell_type": "code",
   "execution_count": null,
   "id": "1840f90c",
   "metadata": {},
   "outputs": [],
   "source": []
  }
 ],
 "metadata": {
  "kernelspec": {
   "display_name": "Python 3",
   "language": "python",
   "name": "python3"
  },
  "language_info": {
   "codemirror_mode": {
    "name": "ipython",
    "version": 3
   },
   "file_extension": ".py",
   "mimetype": "text/x-python",
   "name": "python",
   "nbconvert_exporter": "python",
   "pygments_lexer": "ipython3",
   "version": "3.9.1"
  }
 },
 "nbformat": 4,
 "nbformat_minor": 5
}
